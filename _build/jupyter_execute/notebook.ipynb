{
 "cells": [
  {
   "cell_type": "markdown",
   "metadata": {},
   "source": [
    "# Proyecto RustyBargain predicción de valor de mercado"
   ]
  },
  {
   "cell_type": "markdown",
   "metadata": {},
   "source": [
    "El servicio de venta de autos usados Rusty Bargain está desarrollando una aplicación para atraer nuevos clientes. Gracias a esa app, puedes averiguar rápidamente el valor de mercado de tu coche. Tienes acceso al historial: especificaciones técnicas, versiones de equipamiento y precios. Tienes que crear un modelo que determine el valor de mercado.\n",
    "A Rusty Bargain le interesa:\n",
    "- la calidad de la predicción;\n",
    "- la velocidad de la predicción;\n",
    "- el tiempo requerido para el entrenamiento"
   ]
  },
  {
   "cell_type": "markdown",
   "metadata": {},
   "source": [
    "## Preparación de datos"
   ]
  },
  {
   "cell_type": "code",
   "execution_count": 1,
   "metadata": {},
   "outputs": [],
   "source": [
    "# Importar librerias\n",
    "import pandas as pd\n",
    "import numpy as np\n",
    "import time\n",
    "from matplotlib import pyplot as plt\n",
    "from sklearn.model_selection import train_test_split\n",
    "from sklearn.metrics import mean_squared_error\n",
    "from sklearn.linear_model import LinearRegression\n",
    "from sklearn.ensemble import RandomForestRegressor\n",
    "from sklearn.tree import DecisionTreeRegressor\n",
    "import warnings\n",
    "warnings.filterwarnings(\"ignore\", category=UserWarning)\n",
    "import lightgbm as lgb\n",
    "from lightgbm import LGBMRegressor\n",
    "from catboost import CatBoostRegressor\n",
    "import xgboost as xgb\n",
    "from lightgbm import basic as _lgb_basic\n"
   ]
  },
  {
   "cell_type": "code",
   "execution_count": 2,
   "metadata": {},
   "outputs": [
    {
     "name": "stdout",
     "output_type": "stream",
     "text": [
      "<class 'pandas.core.frame.DataFrame'>\n",
      "RangeIndex: 354369 entries, 0 to 354368\n",
      "Data columns (total 16 columns):\n",
      " #   Column             Non-Null Count   Dtype \n",
      "---  ------             --------------   ----- \n",
      " 0   DateCrawled        354369 non-null  object\n",
      " 1   Price              354369 non-null  int64 \n",
      " 2   VehicleType        316879 non-null  object\n",
      " 3   RegistrationYear   354369 non-null  int64 \n",
      " 4   Gearbox            334536 non-null  object\n",
      " 5   Power              354369 non-null  int64 \n",
      " 6   Model              334664 non-null  object\n",
      " 7   Mileage            354369 non-null  int64 \n",
      " 8   RegistrationMonth  354369 non-null  int64 \n",
      " 9   FuelType           321474 non-null  object\n",
      " 10  Brand              354369 non-null  object\n",
      " 11  NotRepaired        283215 non-null  object\n",
      " 12  DateCreated        354369 non-null  object\n",
      " 13  NumberOfPictures   354369 non-null  int64 \n",
      " 14  PostalCode         354369 non-null  int64 \n",
      " 15  LastSeen           354369 non-null  object\n",
      "dtypes: int64(7), object(9)\n",
      "memory usage: 43.3+ MB\n"
     ]
    }
   ],
   "source": [
    "# Cargar los datos\n",
    "df = pd.read_csv('datasets/car_data.csv')\n",
    "\n",
    "df.info()"
   ]
  },
  {
   "cell_type": "code",
   "execution_count": 3,
   "metadata": {},
   "outputs": [
    {
     "name": "stdout",
     "output_type": "stream",
     "text": [
      "Columnas después de limpieza:\n"
     ]
    },
    {
     "data": {
      "text/plain": [
       "['Price',\n",
       " 'VehicleType',\n",
       " 'RegistrationYear',\n",
       " 'Gearbox',\n",
       " 'Power',\n",
       " 'Model',\n",
       " 'Mileage',\n",
       " 'RegistrationMonth',\n",
       " 'FuelType',\n",
       " 'Brand',\n",
       " 'NotRepaired']"
      ]
     },
     "execution_count": 3,
     "metadata": {},
     "output_type": "execute_result"
    }
   ],
   "source": [
    "# Eliminar columnas irrelevantes\n",
    "columnas_a_eliminar = [\n",
    "    'DateCrawled',\n",
    "    'DateCreated',\n",
    "    'LastSeen',\n",
    "    'NumberOfPictures',\n",
    "    'PostalCode'\n",
    "]\n",
    "\n",
    "df.drop(columns=columnas_a_eliminar, inplace=True)\n",
    "\n",
    "# Verificamos las columnas restantes\n",
    "print(\"Columnas después de limpieza:\")\n",
    "df.columns.tolist()"
   ]
  },
  {
   "cell_type": "markdown",
   "metadata": {},
   "source": [
    "**NOTAS:**\n",
    "\n",
    "Se eliminaron estas columnas porque no aportan datos importantes para el precio del coche y provoca una sobrecarga de información."
   ]
  },
  {
   "cell_type": "code",
   "execution_count": 4,
   "metadata": {},
   "outputs": [
    {
     "data": {
      "text/html": [
       "<div>\n",
       "<style scoped>\n",
       "    .dataframe tbody tr th:only-of-type {\n",
       "        vertical-align: middle;\n",
       "    }\n",
       "\n",
       "    .dataframe tbody tr th {\n",
       "        vertical-align: top;\n",
       "    }\n",
       "\n",
       "    .dataframe thead th {\n",
       "        text-align: right;\n",
       "    }\n",
       "</style>\n",
       "<table border=\"1\" class=\"dataframe\">\n",
       "  <thead>\n",
       "    <tr style=\"text-align: right;\">\n",
       "      <th></th>\n",
       "      <th>price</th>\n",
       "      <th>vehicletype</th>\n",
       "      <th>registrationyear</th>\n",
       "      <th>gearbox</th>\n",
       "      <th>power</th>\n",
       "      <th>model</th>\n",
       "      <th>mileage</th>\n",
       "      <th>registrationmonth</th>\n",
       "      <th>fueltype</th>\n",
       "      <th>brand</th>\n",
       "      <th>notrepaired</th>\n",
       "    </tr>\n",
       "  </thead>\n",
       "  <tbody>\n",
       "    <tr>\n",
       "      <th>0</th>\n",
       "      <td>480</td>\n",
       "      <td>NaN</td>\n",
       "      <td>1993</td>\n",
       "      <td>manual</td>\n",
       "      <td>0</td>\n",
       "      <td>golf</td>\n",
       "      <td>150000</td>\n",
       "      <td>0</td>\n",
       "      <td>petrol</td>\n",
       "      <td>volkswagen</td>\n",
       "      <td>NaN</td>\n",
       "    </tr>\n",
       "    <tr>\n",
       "      <th>1</th>\n",
       "      <td>18300</td>\n",
       "      <td>coupe</td>\n",
       "      <td>2011</td>\n",
       "      <td>manual</td>\n",
       "      <td>190</td>\n",
       "      <td>NaN</td>\n",
       "      <td>125000</td>\n",
       "      <td>5</td>\n",
       "      <td>gasoline</td>\n",
       "      <td>audi</td>\n",
       "      <td>yes</td>\n",
       "    </tr>\n",
       "    <tr>\n",
       "      <th>2</th>\n",
       "      <td>9800</td>\n",
       "      <td>suv</td>\n",
       "      <td>2004</td>\n",
       "      <td>auto</td>\n",
       "      <td>163</td>\n",
       "      <td>grand</td>\n",
       "      <td>125000</td>\n",
       "      <td>8</td>\n",
       "      <td>gasoline</td>\n",
       "      <td>jeep</td>\n",
       "      <td>NaN</td>\n",
       "    </tr>\n",
       "    <tr>\n",
       "      <th>3</th>\n",
       "      <td>1500</td>\n",
       "      <td>small</td>\n",
       "      <td>2001</td>\n",
       "      <td>manual</td>\n",
       "      <td>75</td>\n",
       "      <td>golf</td>\n",
       "      <td>150000</td>\n",
       "      <td>6</td>\n",
       "      <td>petrol</td>\n",
       "      <td>volkswagen</td>\n",
       "      <td>no</td>\n",
       "    </tr>\n",
       "    <tr>\n",
       "      <th>4</th>\n",
       "      <td>3600</td>\n",
       "      <td>small</td>\n",
       "      <td>2008</td>\n",
       "      <td>manual</td>\n",
       "      <td>69</td>\n",
       "      <td>fabia</td>\n",
       "      <td>90000</td>\n",
       "      <td>7</td>\n",
       "      <td>gasoline</td>\n",
       "      <td>skoda</td>\n",
       "      <td>no</td>\n",
       "    </tr>\n",
       "  </tbody>\n",
       "</table>\n",
       "</div>"
      ],
      "text/plain": [
       "   price vehicletype  registrationyear gearbox  power  model  mileage  \\\n",
       "0    480         NaN              1993  manual      0   golf   150000   \n",
       "1  18300       coupe              2011  manual    190    NaN   125000   \n",
       "2   9800         suv              2004    auto    163  grand   125000   \n",
       "3   1500       small              2001  manual     75   golf   150000   \n",
       "4   3600       small              2008  manual     69  fabia    90000   \n",
       "\n",
       "   registrationmonth  fueltype       brand notrepaired  \n",
       "0                  0    petrol  volkswagen         NaN  \n",
       "1                  5  gasoline        audi         yes  \n",
       "2                  8  gasoline        jeep         NaN  \n",
       "3                  6    petrol  volkswagen          no  \n",
       "4                  7  gasoline       skoda          no  "
      ]
     },
     "execution_count": 4,
     "metadata": {},
     "output_type": "execute_result"
    }
   ],
   "source": [
    "df.columns = df.columns.str.lower()\n",
    "\n",
    "df.head()"
   ]
  },
  {
   "cell_type": "code",
   "execution_count": 5,
   "metadata": {},
   "outputs": [
    {
     "name": "stdout",
     "output_type": "stream",
     "text": [
      "<class 'pandas.core.frame.DataFrame'>\n",
      "Index: 246258 entries, 1 to 354368\n",
      "Data columns (total 11 columns):\n",
      " #   Column             Non-Null Count   Dtype \n",
      "---  ------             --------------   ----- \n",
      " 0   price              246258 non-null  int64 \n",
      " 1   vehicletype        234476 non-null  object\n",
      " 2   registrationyear   246258 non-null  int64 \n",
      " 3   gearbox            243042 non-null  object\n",
      " 4   power              246258 non-null  int64 \n",
      " 5   model              238733 non-null  object\n",
      " 6   mileage            246258 non-null  int64 \n",
      " 7   registrationmonth  246258 non-null  int64 \n",
      " 8   fueltype           235723 non-null  object\n",
      " 9   brand              246258 non-null  object\n",
      " 10  notrepaired        218682 non-null  object\n",
      "dtypes: int64(5), object(6)\n",
      "memory usage: 22.5+ MB\n"
     ]
    }
   ],
   "source": [
    "# Filtrar valores ilógicos\n",
    "df = df[(df['power'] > 9) & (df['power'] < 600)]  # Valores razonables de potencia\n",
    "df = df[(df['price'] > 899) & (df['price'] < 100000)]  # Precio razonable\n",
    "df = df[df['registrationyear'].between(1950, 2025)]  # Años válidos\n",
    "df = df[(df['registrationmonth'] > 0) & (df['registrationmonth'] < 13)]  # Meses válidos\n",
    "\n",
    "df.info()"
   ]
  },
  {
   "cell_type": "code",
   "execution_count": 6,
   "metadata": {},
   "outputs": [
    {
     "name": "stdout",
     "output_type": "stream",
     "text": [
      "Valores duplicados de car_data:  20372\n"
     ]
    },
    {
     "name": "stdout",
     "output_type": "stream",
     "text": [
      "Valores duplicados de car_data:  0\n"
     ]
    }
   ],
   "source": [
    "# Encontrar todas las filas duplicadas\n",
    "duplicados = df.duplicated()\n",
    "print(\"Valores duplicados de car_data: \", duplicados.sum())\n",
    "\n",
    "# Eliminar filas duplicadas, manteniendo la primera aparición\n",
    "df = df.drop_duplicates()\n",
    "print(\"Valores duplicados de car_data: \", df.duplicated().sum())\n"
   ]
  },
  {
   "cell_type": "code",
   "execution_count": 7,
   "metadata": {},
   "outputs": [
    {
     "name": "stdout",
     "output_type": "stream",
     "text": [
      "[]\n"
     ]
    }
   ],
   "source": [
    "# Reemplazar valores faltantes en columnas categóricas\n",
    "categ_cols = ['vehicletype', 'gearbox', 'model', 'fueltype', 'brand', 'notrepaired']\n",
    "for col in categ_cols:\n",
    "    df[col] = df[col].fillna('unknown').astype('category')\n",
    "\n",
    "\n",
    "# Encontrar columnas con valores nulos\n",
    "columnas_nulas = df.isnull().any()\n",
    "columnas_con_nulos = columnas_nulas[columnas_nulas].index.tolist()\n",
    "print(columnas_con_nulos)"
   ]
  },
  {
   "cell_type": "code",
   "execution_count": 8,
   "metadata": {},
   "outputs": [
    {
     "name": "stdout",
     "output_type": "stream",
     "text": [
      "<class 'pandas.core.frame.DataFrame'>\n",
      "Index: 225886 entries, 1 to 354368\n",
      "Data columns (total 11 columns):\n",
      " #   Column             Non-Null Count   Dtype   \n",
      "---  ------             --------------   -----   \n",
      " 0   price              225886 non-null  int64   \n",
      " 1   vehicletype        225886 non-null  category\n",
      " 2   registrationyear   225886 non-null  int64   \n",
      " 3   gearbox            225886 non-null  category\n",
      " 4   power              225886 non-null  int64   \n",
      " 5   model              225886 non-null  category\n",
      " 6   mileage            225886 non-null  int64   \n",
      " 7   registrationmonth  225886 non-null  int64   \n",
      " 8   fueltype           225886 non-null  category\n",
      " 9   brand              225886 non-null  category\n",
      " 10  notrepaired        225886 non-null  category\n",
      "dtypes: category(6), int64(5)\n",
      "memory usage: 11.9 MB\n"
     ]
    },
    {
     "data": {
      "text/html": [
       "<div>\n",
       "<style scoped>\n",
       "    .dataframe tbody tr th:only-of-type {\n",
       "        vertical-align: middle;\n",
       "    }\n",
       "\n",
       "    .dataframe tbody tr th {\n",
       "        vertical-align: top;\n",
       "    }\n",
       "\n",
       "    .dataframe thead th {\n",
       "        text-align: right;\n",
       "    }\n",
       "</style>\n",
       "<table border=\"1\" class=\"dataframe\">\n",
       "  <thead>\n",
       "    <tr style=\"text-align: right;\">\n",
       "      <th></th>\n",
       "      <th>price</th>\n",
       "      <th>registrationyear</th>\n",
       "      <th>power</th>\n",
       "      <th>mileage</th>\n",
       "      <th>registrationmonth</th>\n",
       "    </tr>\n",
       "  </thead>\n",
       "  <tbody>\n",
       "    <tr>\n",
       "      <th>count</th>\n",
       "      <td>225886.000000</td>\n",
       "      <td>225886.000000</td>\n",
       "      <td>225886.000000</td>\n",
       "      <td>225886.000000</td>\n",
       "      <td>225886.000000</td>\n",
       "    </tr>\n",
       "    <tr>\n",
       "      <th>mean</th>\n",
       "      <td>5702.165871</td>\n",
       "      <td>2004.117763</td>\n",
       "      <td>126.785662</td>\n",
       "      <td>125880.665468</td>\n",
       "      <td>6.405806</td>\n",
       "    </tr>\n",
       "    <tr>\n",
       "      <th>std</th>\n",
       "      <td>4612.741669</td>\n",
       "      <td>6.641724</td>\n",
       "      <td>54.083721</td>\n",
       "      <td>37794.508900</td>\n",
       "      <td>3.343020</td>\n",
       "    </tr>\n",
       "    <tr>\n",
       "      <th>min</th>\n",
       "      <td>900.000000</td>\n",
       "      <td>1950.000000</td>\n",
       "      <td>10.000000</td>\n",
       "      <td>5000.000000</td>\n",
       "      <td>1.000000</td>\n",
       "    </tr>\n",
       "    <tr>\n",
       "      <th>25%</th>\n",
       "      <td>2000.000000</td>\n",
       "      <td>2001.000000</td>\n",
       "      <td>90.000000</td>\n",
       "      <td>100000.000000</td>\n",
       "      <td>4.000000</td>\n",
       "    </tr>\n",
       "    <tr>\n",
       "      <th>50%</th>\n",
       "      <td>4000.000000</td>\n",
       "      <td>2004.000000</td>\n",
       "      <td>116.000000</td>\n",
       "      <td>150000.000000</td>\n",
       "      <td>6.000000</td>\n",
       "    </tr>\n",
       "    <tr>\n",
       "      <th>75%</th>\n",
       "      <td>7999.000000</td>\n",
       "      <td>2008.000000</td>\n",
       "      <td>150.000000</td>\n",
       "      <td>150000.000000</td>\n",
       "      <td>9.000000</td>\n",
       "    </tr>\n",
       "    <tr>\n",
       "      <th>max</th>\n",
       "      <td>20000.000000</td>\n",
       "      <td>2019.000000</td>\n",
       "      <td>585.000000</td>\n",
       "      <td>150000.000000</td>\n",
       "      <td>12.000000</td>\n",
       "    </tr>\n",
       "  </tbody>\n",
       "</table>\n",
       "</div>"
      ],
      "text/plain": [
       "               price  registrationyear          power        mileage  \\\n",
       "count  225886.000000     225886.000000  225886.000000  225886.000000   \n",
       "mean     5702.165871       2004.117763     126.785662  125880.665468   \n",
       "std      4612.741669          6.641724      54.083721   37794.508900   \n",
       "min       900.000000       1950.000000      10.000000    5000.000000   \n",
       "25%      2000.000000       2001.000000      90.000000  100000.000000   \n",
       "50%      4000.000000       2004.000000     116.000000  150000.000000   \n",
       "75%      7999.000000       2008.000000     150.000000  150000.000000   \n",
       "max     20000.000000       2019.000000     585.000000  150000.000000   \n",
       "\n",
       "       registrationmonth  \n",
       "count      225886.000000  \n",
       "mean            6.405806  \n",
       "std             3.343020  \n",
       "min             1.000000  \n",
       "25%             4.000000  \n",
       "50%             6.000000  \n",
       "75%             9.000000  \n",
       "max            12.000000  "
      ]
     },
     "execution_count": 8,
     "metadata": {},
     "output_type": "execute_result"
    }
   ],
   "source": [
    "df.info()\n",
    "df.describe()"
   ]
  },
  {
   "cell_type": "markdown",
   "metadata": {},
   "source": [
    "## Entrenamiento del modelo "
   ]
  },
  {
   "cell_type": "code",
   "execution_count": 9,
   "metadata": {},
   "outputs": [],
   "source": [
    "features = df.drop('price', axis=1)\n",
    "target = df['price']\n",
    "\n",
    "features_train, features_test, target_train, target_test = train_test_split(\n",
    "    features, target, test_size=0.25, random_state=1234)\n"
   ]
  },
  {
   "cell_type": "code",
   "execution_count": 10,
   "metadata": {},
   "outputs": [],
   "source": [
    "# One-Hot Encoding para modelos que lo requieren\n",
    "features_train_ohe = pd.get_dummies(features_train, drop_first=True)\n",
    "features_test_ohe = pd.get_dummies(features_test, drop_first=True)\n",
    "features_test_ohe = features_test_ohe.reindex(columns=features_train_ohe.columns, fill_value=0)\n",
    "\n",
    "# Función auxiliar de RMSE (RECM)\n",
    "def rmse(y_true, y_pred):\n",
    "    return np.sqrt(mean_squared_error(y_true, y_pred))"
   ]
  },
  {
   "cell_type": "code",
   "execution_count": 11,
   "metadata": {},
   "outputs": [],
   "source": [
    "results = {}\n",
    "\n",
    "# --- 1. Regresión Lineal ---\n",
    "lr = LinearRegression()\n",
    "start = time.time()\n",
    "lr.fit(features_train_ohe, target_train)\n",
    "train_time = time.time() - start\n",
    "\n",
    "start = time.time()\n",
    "preds_lr = lr.predict(features_test_ohe)\n",
    "predict_time = time.time() - start\n",
    "\n",
    "results['LinearRegression'] = {\n",
    "    'rmse': rmse(target_test, preds_lr),\n",
    "    'train_time': train_time,\n",
    "    'predict_time': predict_time\n",
    "}\n",
    "\n",
    "# --- 2. Árbol de decisión ---\n",
    "tree = DecisionTreeRegressor(max_depth=10, random_state=42)\n",
    "start = time.time()\n",
    "tree.fit(features_train_ohe, target_train)\n",
    "train_time = time.time() - start\n",
    "\n",
    "start = time.time()\n",
    "preds_tree = tree.predict(features_test_ohe)\n",
    "predict_time = time.time() - start\n",
    "\n",
    "results['DecisionTree'] = {\n",
    "    'rmse': rmse(target_test, preds_tree),\n",
    "    'train_time': train_time,\n",
    "    'predict_time': predict_time\n",
    "}\n"
   ]
  },
  {
   "cell_type": "code",
   "execution_count": 12,
   "metadata": {},
   "outputs": [
    {
     "ename": "KeyboardInterrupt",
     "evalue": "",
     "output_type": "error",
     "traceback": [
      "\u001b[0;31m---------------------------------------------------------------------------\u001b[0m",
      "\u001b[0;31mKeyboardInterrupt\u001b[0m                         Traceback (most recent call last)",
      "Cell \u001b[0;32mIn[12], line 4\u001b[0m\n\u001b[1;32m      2\u001b[0m rf \u001b[38;5;241m=\u001b[39m RandomForestRegressor(n_estimators\u001b[38;5;241m=\u001b[39m\u001b[38;5;241m100\u001b[39m, max_depth\u001b[38;5;241m=\u001b[39m\u001b[38;5;241m20\u001b[39m, random_state\u001b[38;5;241m=\u001b[39m\u001b[38;5;241m42\u001b[39m, n_jobs\u001b[38;5;241m=\u001b[39m\u001b[38;5;241m-\u001b[39m\u001b[38;5;241m1\u001b[39m)\n\u001b[1;32m      3\u001b[0m start \u001b[38;5;241m=\u001b[39m time\u001b[38;5;241m.\u001b[39mtime()\n\u001b[0;32m----> 4\u001b[0m rf\u001b[38;5;241m.\u001b[39mfit(features_train_ohe, target_train)\n\u001b[1;32m      5\u001b[0m train_time \u001b[38;5;241m=\u001b[39m time\u001b[38;5;241m.\u001b[39mtime() \u001b[38;5;241m-\u001b[39m start\n\u001b[1;32m      7\u001b[0m start \u001b[38;5;241m=\u001b[39m time\u001b[38;5;241m.\u001b[39mtime()\n",
      "File \u001b[0;32m~/anaconda3/lib/python3.13/site-packages/sklearn/base.py:1389\u001b[0m, in \u001b[0;36m_fit_context.<locals>.decorator.<locals>.wrapper\u001b[0;34m(estimator, *args, **kwargs)\u001b[0m\n\u001b[1;32m   1382\u001b[0m     estimator\u001b[38;5;241m.\u001b[39m_validate_params()\n\u001b[1;32m   1384\u001b[0m \u001b[38;5;28;01mwith\u001b[39;00m config_context(\n\u001b[1;32m   1385\u001b[0m     skip_parameter_validation\u001b[38;5;241m=\u001b[39m(\n\u001b[1;32m   1386\u001b[0m         prefer_skip_nested_validation \u001b[38;5;129;01mor\u001b[39;00m global_skip_validation\n\u001b[1;32m   1387\u001b[0m     )\n\u001b[1;32m   1388\u001b[0m ):\n\u001b[0;32m-> 1389\u001b[0m     \u001b[38;5;28;01mreturn\u001b[39;00m fit_method(estimator, \u001b[38;5;241m*\u001b[39margs, \u001b[38;5;241m*\u001b[39m\u001b[38;5;241m*\u001b[39mkwargs)\n",
      "File \u001b[0;32m~/anaconda3/lib/python3.13/site-packages/sklearn/ensemble/_forest.py:487\u001b[0m, in \u001b[0;36mBaseForest.fit\u001b[0;34m(self, X, y, sample_weight)\u001b[0m\n\u001b[1;32m    476\u001b[0m trees \u001b[38;5;241m=\u001b[39m [\n\u001b[1;32m    477\u001b[0m     \u001b[38;5;28mself\u001b[39m\u001b[38;5;241m.\u001b[39m_make_estimator(append\u001b[38;5;241m=\u001b[39m\u001b[38;5;28;01mFalse\u001b[39;00m, random_state\u001b[38;5;241m=\u001b[39mrandom_state)\n\u001b[1;32m    478\u001b[0m     \u001b[38;5;28;01mfor\u001b[39;00m i \u001b[38;5;129;01min\u001b[39;00m \u001b[38;5;28mrange\u001b[39m(n_more_estimators)\n\u001b[1;32m    479\u001b[0m ]\n\u001b[1;32m    481\u001b[0m \u001b[38;5;66;03m# Parallel loop: we prefer the threading backend as the Cython code\u001b[39;00m\n\u001b[1;32m    482\u001b[0m \u001b[38;5;66;03m# for fitting the trees is internally releasing the Python GIL\u001b[39;00m\n\u001b[1;32m    483\u001b[0m \u001b[38;5;66;03m# making threading more efficient than multiprocessing in\u001b[39;00m\n\u001b[1;32m    484\u001b[0m \u001b[38;5;66;03m# that case. However, for joblib 0.12+ we respect any\u001b[39;00m\n\u001b[1;32m    485\u001b[0m \u001b[38;5;66;03m# parallel_backend contexts set at a higher level,\u001b[39;00m\n\u001b[1;32m    486\u001b[0m \u001b[38;5;66;03m# since correctness does not rely on using threads.\u001b[39;00m\n\u001b[0;32m--> 487\u001b[0m trees \u001b[38;5;241m=\u001b[39m Parallel(\n\u001b[1;32m    488\u001b[0m     n_jobs\u001b[38;5;241m=\u001b[39m\u001b[38;5;28mself\u001b[39m\u001b[38;5;241m.\u001b[39mn_jobs,\n\u001b[1;32m    489\u001b[0m     verbose\u001b[38;5;241m=\u001b[39m\u001b[38;5;28mself\u001b[39m\u001b[38;5;241m.\u001b[39mverbose,\n\u001b[1;32m    490\u001b[0m     prefer\u001b[38;5;241m=\u001b[39m\u001b[38;5;124m\"\u001b[39m\u001b[38;5;124mthreads\u001b[39m\u001b[38;5;124m\"\u001b[39m,\n\u001b[1;32m    491\u001b[0m )(\n\u001b[1;32m    492\u001b[0m     delayed(_parallel_build_trees)(\n\u001b[1;32m    493\u001b[0m         t,\n\u001b[1;32m    494\u001b[0m         \u001b[38;5;28mself\u001b[39m\u001b[38;5;241m.\u001b[39mbootstrap,\n\u001b[1;32m    495\u001b[0m         X,\n\u001b[1;32m    496\u001b[0m         y,\n\u001b[1;32m    497\u001b[0m         sample_weight,\n\u001b[1;32m    498\u001b[0m         i,\n\u001b[1;32m    499\u001b[0m         \u001b[38;5;28mlen\u001b[39m(trees),\n\u001b[1;32m    500\u001b[0m         verbose\u001b[38;5;241m=\u001b[39m\u001b[38;5;28mself\u001b[39m\u001b[38;5;241m.\u001b[39mverbose,\n\u001b[1;32m    501\u001b[0m         class_weight\u001b[38;5;241m=\u001b[39m\u001b[38;5;28mself\u001b[39m\u001b[38;5;241m.\u001b[39mclass_weight,\n\u001b[1;32m    502\u001b[0m         n_samples_bootstrap\u001b[38;5;241m=\u001b[39mn_samples_bootstrap,\n\u001b[1;32m    503\u001b[0m         missing_values_in_feature_mask\u001b[38;5;241m=\u001b[39mmissing_values_in_feature_mask,\n\u001b[1;32m    504\u001b[0m     )\n\u001b[1;32m    505\u001b[0m     \u001b[38;5;28;01mfor\u001b[39;00m i, t \u001b[38;5;129;01min\u001b[39;00m \u001b[38;5;28menumerate\u001b[39m(trees)\n\u001b[1;32m    506\u001b[0m )\n\u001b[1;32m    508\u001b[0m \u001b[38;5;66;03m# Collect newly grown trees\u001b[39;00m\n\u001b[1;32m    509\u001b[0m \u001b[38;5;28mself\u001b[39m\u001b[38;5;241m.\u001b[39mestimators_\u001b[38;5;241m.\u001b[39mextend(trees)\n",
      "File \u001b[0;32m~/anaconda3/lib/python3.13/site-packages/sklearn/utils/parallel.py:77\u001b[0m, in \u001b[0;36mParallel.__call__\u001b[0;34m(self, iterable)\u001b[0m\n\u001b[1;32m     72\u001b[0m config \u001b[38;5;241m=\u001b[39m get_config()\n\u001b[1;32m     73\u001b[0m iterable_with_config \u001b[38;5;241m=\u001b[39m (\n\u001b[1;32m     74\u001b[0m     (_with_config(delayed_func, config), args, kwargs)\n\u001b[1;32m     75\u001b[0m     \u001b[38;5;28;01mfor\u001b[39;00m delayed_func, args, kwargs \u001b[38;5;129;01min\u001b[39;00m iterable\n\u001b[1;32m     76\u001b[0m )\n\u001b[0;32m---> 77\u001b[0m \u001b[38;5;28;01mreturn\u001b[39;00m \u001b[38;5;28msuper\u001b[39m()\u001b[38;5;241m.\u001b[39m\u001b[38;5;21m__call__\u001b[39m(iterable_with_config)\n",
      "File \u001b[0;32m~/anaconda3/lib/python3.13/site-packages/joblib/parallel.py:2007\u001b[0m, in \u001b[0;36mParallel.__call__\u001b[0;34m(self, iterable)\u001b[0m\n\u001b[1;32m   2001\u001b[0m \u001b[38;5;66;03m# The first item from the output is blank, but it makes the interpreter\u001b[39;00m\n\u001b[1;32m   2002\u001b[0m \u001b[38;5;66;03m# progress until it enters the Try/Except block of the generator and\u001b[39;00m\n\u001b[1;32m   2003\u001b[0m \u001b[38;5;66;03m# reaches the first `yield` statement. This starts the asynchronous\u001b[39;00m\n\u001b[1;32m   2004\u001b[0m \u001b[38;5;66;03m# dispatch of the tasks to the workers.\u001b[39;00m\n\u001b[1;32m   2005\u001b[0m \u001b[38;5;28mnext\u001b[39m(output)\n\u001b[0;32m-> 2007\u001b[0m \u001b[38;5;28;01mreturn\u001b[39;00m output \u001b[38;5;28;01mif\u001b[39;00m \u001b[38;5;28mself\u001b[39m\u001b[38;5;241m.\u001b[39mreturn_generator \u001b[38;5;28;01melse\u001b[39;00m \u001b[38;5;28mlist\u001b[39m(output)\n",
      "File \u001b[0;32m~/anaconda3/lib/python3.13/site-packages/joblib/parallel.py:1650\u001b[0m, in \u001b[0;36mParallel._get_outputs\u001b[0;34m(self, iterator, pre_dispatch)\u001b[0m\n\u001b[1;32m   1647\u001b[0m     \u001b[38;5;28;01myield\u001b[39;00m\n\u001b[1;32m   1649\u001b[0m     \u001b[38;5;28;01mwith\u001b[39;00m \u001b[38;5;28mself\u001b[39m\u001b[38;5;241m.\u001b[39m_backend\u001b[38;5;241m.\u001b[39mretrieval_context():\n\u001b[0;32m-> 1650\u001b[0m         \u001b[38;5;28;01myield from\u001b[39;00m \u001b[38;5;28mself\u001b[39m\u001b[38;5;241m.\u001b[39m_retrieve()\n\u001b[1;32m   1652\u001b[0m \u001b[38;5;28;01mexcept\u001b[39;00m \u001b[38;5;167;01mGeneratorExit\u001b[39;00m:\n\u001b[1;32m   1653\u001b[0m     \u001b[38;5;66;03m# The generator has been garbage collected before being fully\u001b[39;00m\n\u001b[1;32m   1654\u001b[0m     \u001b[38;5;66;03m# consumed. This aborts the remaining tasks if possible and warn\u001b[39;00m\n\u001b[1;32m   1655\u001b[0m     \u001b[38;5;66;03m# the user if necessary.\u001b[39;00m\n\u001b[1;32m   1656\u001b[0m     \u001b[38;5;28mself\u001b[39m\u001b[38;5;241m.\u001b[39m_exception \u001b[38;5;241m=\u001b[39m \u001b[38;5;28;01mTrue\u001b[39;00m\n",
      "File \u001b[0;32m~/anaconda3/lib/python3.13/site-packages/joblib/parallel.py:1762\u001b[0m, in \u001b[0;36mParallel._retrieve\u001b[0;34m(self)\u001b[0m\n\u001b[1;32m   1757\u001b[0m \u001b[38;5;66;03m# If the next job is not ready for retrieval yet, we just wait for\u001b[39;00m\n\u001b[1;32m   1758\u001b[0m \u001b[38;5;66;03m# async callbacks to progress.\u001b[39;00m\n\u001b[1;32m   1759\u001b[0m \u001b[38;5;28;01mif\u001b[39;00m ((\u001b[38;5;28mlen\u001b[39m(\u001b[38;5;28mself\u001b[39m\u001b[38;5;241m.\u001b[39m_jobs) \u001b[38;5;241m==\u001b[39m \u001b[38;5;241m0\u001b[39m) \u001b[38;5;129;01mor\u001b[39;00m\n\u001b[1;32m   1760\u001b[0m     (\u001b[38;5;28mself\u001b[39m\u001b[38;5;241m.\u001b[39m_jobs[\u001b[38;5;241m0\u001b[39m]\u001b[38;5;241m.\u001b[39mget_status(\n\u001b[1;32m   1761\u001b[0m         timeout\u001b[38;5;241m=\u001b[39m\u001b[38;5;28mself\u001b[39m\u001b[38;5;241m.\u001b[39mtimeout) \u001b[38;5;241m==\u001b[39m TASK_PENDING)):\n\u001b[0;32m-> 1762\u001b[0m     time\u001b[38;5;241m.\u001b[39msleep(\u001b[38;5;241m0.01\u001b[39m)\n\u001b[1;32m   1763\u001b[0m     \u001b[38;5;28;01mcontinue\u001b[39;00m\n\u001b[1;32m   1765\u001b[0m \u001b[38;5;66;03m# We need to be careful: the job list can be filling up as\u001b[39;00m\n\u001b[1;32m   1766\u001b[0m \u001b[38;5;66;03m# we empty it and Python list are not thread-safe by\u001b[39;00m\n\u001b[1;32m   1767\u001b[0m \u001b[38;5;66;03m# default hence the use of the lock\u001b[39;00m\n",
      "\u001b[0;31mKeyboardInterrupt\u001b[0m: "
     ]
    }
   ],
   "source": [
    "# --- 3. Random Forest ---\n",
    "rf = RandomForestRegressor(n_estimators=100, max_depth=20, random_state=42, n_jobs=-1)\n",
    "start = time.time()\n",
    "rf.fit(features_train_ohe, target_train)\n",
    "train_time = time.time() - start\n",
    "\n",
    "start = time.time()\n",
    "preds_rf = rf.predict(features_test_ohe)\n",
    "predict_time = time.time() - start\n",
    "\n",
    "results['RandomForest'] = {\n",
    "    'rmse': rmse(target_test, preds_rf),\n",
    "    'train_time': train_time,\n",
    "    'predict_time': predict_time\n",
    "}\n"
   ]
  },
  {
   "cell_type": "code",
   "execution_count": 23,
   "metadata": {},
   "outputs": [
    {
     "name": "stdout",
     "output_type": "stream",
     "text": [
      "[LightGBM] [Info] Auto-choosing row-wise multi-threading, the overhead of testing was 0.004601 seconds.\n",
      "You can set `force_row_wise=true` to remove the overhead.\n",
      "And if memory is not enough, you can set `force_col_wise=true`.\n",
      "[LightGBM] [Info] Total Bins 634\n",
      "[LightGBM] [Info] Number of data points in the train set: 169414, number of used features: 10\n",
      "[LightGBM] [Info] Start training from score 5700.582821\n"
     ]
    }
   ],
   "source": [
    "# --- 4. LightGBM (usa features sin OHE y pasa categóricas) ---\n",
    "# Identificar categóricas por nombre\n",
    "categorical_features = ['vehicletype', 'gearbox', 'model', 'fueltype', 'brand', 'notrepaired']\n",
    "\n",
    "lgbm = lgb.LGBMRegressor(num_leaves=31, learning_rate=0.1, n_estimators=100, random_state=42)\n",
    "start = time.time()\n",
    "lgbm.fit(\n",
    "    features_train,\n",
    "    target_train,\n",
    "    categorical_feature=categorical_features,\n",
    "    eval_set=[(features_test, target_test)]\n",
    ")\n",
    "train_time = time.time() - start\n",
    "\n",
    "start = time.time()\n",
    "preds_lgb = lgbm.predict(features_test)\n",
    "predict_time = time.time() - start\n",
    "\n",
    "results['LightGBM'] = {\n",
    "    'rmse': rmse(target_test, preds_lgb),\n",
    "    'train_time': train_time,\n",
    "    'predict_time': predict_time\n",
    "}"
   ]
  },
  {
   "cell_type": "code",
   "execution_count": 24,
   "metadata": {},
   "outputs": [],
   "source": [
    "# --- 5. CatBoost (maneja categóricas directamente) ---\n",
    "cat_features_idx = [features.columns.get_loc(col) for col in categorical_features]\n",
    "\n",
    "cat = CatBoostRegressor(\n",
    "    iterations=1000,                   # límite alto pero early stopping corta\n",
    "    learning_rate=0.1,\n",
    "    depth=6,\n",
    "    early_stopping_rounds=20,\n",
    "    verbose=False,\n",
    "    random_seed=42,\n",
    "    thread_count=-1,                   # usa todos los núcleos\n",
    "    border_count=64,                  # menos bins = más rápido\n",
    "    grow_policy='SymmetricTree',       # más rápido en muchos casos; opcional\n",
    "    # Si tienes GPU descomenta:\n",
    "    # task_type='GPU',\n",
    "    # devices='0',\n",
    ")\n",
    "\n",
    "start = time.time()\n",
    "cat.fit(\n",
    "    features_train,\n",
    "    target_train,\n",
    "    cat_features=cat_features_idx,\n",
    "    eval_set=(features_test, target_test),\n",
    "    use_best_model=True\n",
    ")\n",
    "train_time = time.time() - start\n",
    "\n",
    "start = time.time()\n",
    "preds_cat = cat.predict(features_test)\n",
    "predict_time = time.time() - start\n",
    "\n",
    "results['CatBoost'] = {\n",
    "    'rmse': rmse(target_test, preds_cat),\n",
    "    'train_time': train_time,\n",
    "    'predict_time': predict_time\n",
    "}\n"
   ]
  },
  {
   "cell_type": "code",
   "execution_count": 25,
   "metadata": {},
   "outputs": [],
   "source": [
    "# --- 6. XGBoost (requiere OHE) ---\n",
    "dtrain = xgb.DMatrix(features_train_ohe, label=target_train)\n",
    "dtest = xgb.DMatrix(features_test_ohe, label=target_test)\n",
    "\n",
    "xgb_params = {\n",
    "    'objective': 'reg:squarederror',\n",
    "    'eval_metric': 'rmse',\n",
    "    'eta': 0.1,\n",
    "    'max_depth': 6,\n",
    "    'subsample': 0.8,             # muestreo de filas\n",
    "    'colsample_bytree': 0.8,      # muestreo de características\n",
    "    'tree_method': 'hist',        # más rápido que el exacto; usa 'gpu_hist' si tienes GPU\n",
    "    'seed': 42,\n",
    "    # 'disable_default_eval_metric': 1  # opcional para evitar métricas extra\n",
    "}\n",
    "\n",
    "start = time.time()\n",
    "xgb_model = xgb.train(\n",
    "    xgb_params,\n",
    "    dtrain,\n",
    "    num_boost_round=500,\n",
    "    evals=[(dtest, 'validation')],\n",
    "    early_stopping_rounds=20,\n",
    "    verbose_eval=False\n",
    ")\n",
    "train_time = time.time() - start\n",
    "\n",
    "start = time.time()\n",
    "preds_xgb = xgb_model.predict(dtest, iteration_range=(0, xgb_model.best_iteration + 1))\n",
    "predict_time = time.time() - start\n",
    "\n",
    "results['XGBoost'] = {\n",
    "    'rmse': rmse(target_test, preds_xgb),\n",
    "    'train_time': train_time,\n",
    "    'predict_time': predict_time\n",
    "}"
   ]
  },
  {
   "cell_type": "code",
   "execution_count": 26,
   "metadata": {},
   "outputs": [
    {
     "name": "stdout",
     "output_type": "stream",
     "text": [
      "LinearRegression | RMSE: 2610.82 | Train(s): 7.712 seg| Predict(s): 0.4690 seg\n",
      "DecisionTree    | RMSE: 2056.46 | Train(s): 4.046 seg| Predict(s): 0.1287 seg\n",
      "RandomForest    | RMSE: 1690.84 | Train(s): 152.959 seg| Predict(s): 0.8038 seg\n",
      "LightGBM        | RMSE: 1661.70 | Train(s): 2.257 seg| Predict(s): 0.1172 seg\n",
      "CatBoost        | RMSE: 1644.38 | Train(s): 93.373 seg| Predict(s): 0.1760 seg\n",
      "XGBoost         | RMSE: 1635.15 | Train(s): 20.710 seg| Predict(s): 0.2187 seg\n"
     ]
    }
   ],
   "source": [
    "# --- Mostrar resumen ---\n",
    "for name, res in results.items():\n",
    "    print(f\"{name:15} | RMSE: {res['rmse']:.2f} | Train(s): {res['train_time']:.3f} seg| Predict(s): {res['predict_time']:.4f} seg\")"
   ]
  },
  {
   "cell_type": "markdown",
   "metadata": {},
   "source": [
    "## Análisis del modelo"
   ]
  },
  {
   "cell_type": "code",
   "execution_count": 27,
   "metadata": {},
   "outputs": [
    {
     "data": {
      "image/png": "[encoded data removed]",
      "text/plain": [
       "<Figure size 1500x500 with 3 Axes>"
      ]
     },
     "metadata": {},
     "output_type": "display_data"
    }
   ],
   "source": [
    "# Convertir resultados a DataFrame\n",
    "df_results = pd.DataFrame.from_dict(results, orient='index').reset_index().rename(columns={'index': 'model'})\n",
    "\n",
    "# --- BARRAS COMPARATIVAS---\n",
    "fig, axes = plt.subplots(1, 3, figsize=(15,5))\n",
    "\n",
    "# RMSE\n",
    "df_rmse_sorted = df_results.sort_values('rmse', ascending=True)\n",
    "axes[0].barh(df_rmse_sorted['model'], df_rmse_sorted['rmse'], color='skyblue')\n",
    "axes[0].set_xlabel('RMSE')\n",
    "axes[0].invert_yaxis()\n",
    "\n",
    "# Train time\n",
    "df_train_sorted = df_results.sort_values('train_time', ascending=True)\n",
    "axes[1].barh(df_train_sorted['model'], df_train_sorted['train_time'], color='salmon')\n",
    "axes[1].set_xlabel('Tiempo entrenamiento (s)')\n",
    "axes[1].invert_yaxis()\n",
    "\n",
    "# Predict time\n",
    "df_predict_sorted = df_results.sort_values('predict_time', ascending=True)\n",
    "axes[2].barh(df_predict_sorted['model'], df_predict_sorted['predict_time'], color='lightgreen')\n",
    "axes[2].set_xlabel('Tiempo predicción (s)')\n",
    "axes[2].invert_yaxis()\n",
    "\n",
    "fig.suptitle('Comparación de modelos')\n",
    "plt.tight_layout()\n",
    "plt.show()\n"
   ]
  },
  {
   "cell_type": "markdown",
   "metadata": {},
   "source": [
    "### Conclusión\n",
    "\n",
    "Dado que la empresa quiere calidad de predicción, velocidad de predicción y entrenamiento razonable, el mejor balance es **LightGBM**:\n",
    "\n",
    "    RMSE: 1661.7 (muy cerca del mejor).\n",
    "\n",
    "    Train: 2.257 seg (apto para reentrenar frecuentemente).\n",
    "\n",
    "    Predict: 0.1172 seg. (el más rápido)\n",
    "\n",
    "**LightGBM sería el modelo final recomendado.**\n",
    "\n",
    "Si se quisiera mejorar un poco más sin perder mucha velocidad, se podría optimizar hiperparámetros de LightGBM y posiblemente lograr un RMSE menor.\n",
    "\n",
    "\n",
    "Por otro lado, **XGBoost** fue el mejor en *RMSE = 1635.15* con una velocidad de entrenamiento *(Train) de 20.71 seg.* (casi 10 veces más que **LightGBM**)."
   ]
  }
 ],
 "metadata": {
  "kernelspec": {
   "display_name": "base",
   "language": "python",
   "name": "python3"
  },
  "language_info": {
   "codemirror_mode": {
    "name": "ipython",
    "version": 3
   },
   "file_extension": ".py",
   "mimetype": "text/x-python",
   "name": "python",
   "nbconvert_exporter": "python",
   "pygments_lexer": "ipython3",
   "version": "3.13.5"
  }
 },
 "nbformat": 4,
 "nbformat_minor": 4
}